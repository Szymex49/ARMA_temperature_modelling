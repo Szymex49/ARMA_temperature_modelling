{
 "cells": [
  {
   "cell_type": "code",
   "execution_count": 4,
   "metadata": {
    "vscode": {
     "languageId": "r"
    }
   },
   "outputs": [],
   "source": [
    "library(dplyr)\n",
    "library(ggplot2)\n",
    "library(zeallot)\n",
    "library(tidyr)\n",
    "library(reshape2)\n",
    "library(cowplot)\n",
    "library(latex2exp)\n",
    "options(repr.plot.width = 12, repr.plot.height = 8)"
   ]
  },
  {
   "cell_type": "code",
   "execution_count": 5,
   "metadata": {
    "vscode": {
     "languageId": "r"
    }
   },
   "outputs": [],
   "source": [
    "analysis <- function(X, Y, display_plot=TRUE){\n",
    "    spearman <- cor(X, Y, use=\"pairwise.complete.obs\", method=\"spearman\")\n",
    "    pearson <- cor(X, Y, use=\"pairwise.complete.obs\", method=\"pearson\")\n",
    "    print(c(\"Pearson\", pearson))\n",
    "    print(c(\"Spearman\", spearman))\n",
    "    if (display_plot) {\n",
    "        ggplot() + geom_point(aes(x=X, y=Y))\n",
    "    }\n",
    "}\n",
    "\n",
    "regression <- function(X, Y, display_plot=TRUE){\n",
    "    r <- cor(X, Y, use=\"pairwise.complete.obs\")\n",
    "    Sx <- sd(X)\n",
    "    Sy <- sd(Y)\n",
    "    a <- r * Sy / Sx\n",
    "    b <- mean(Y) - a * mean(X)\n",
    "\n",
    "    if(display_plot){\n",
    "        xs <- seq(min(X), max(X), 0.01)\n",
    "        plt <- ggplot() +\n",
    "            geom_point(aes(x=X, y=Y), alpha=0.5) +\n",
    "            geom_line(aes(x = xs, y = a * xs + b), linewidth=1, col=\"red\")\n",
    "        show(plt)\n",
    "    }\n",
    "\n",
    "    return(c(a, b))\n",
    "}"
   ]
  },
  {
   "cell_type": "code",
   "execution_count": 8,
   "metadata": {
    "vscode": {
     "languageId": "r"
    }
   },
   "outputs": [
    {
     "data": {
      "text/html": [
       "<table class=\"dataframe\">\n",
       "<caption>A data.frame: 9266 × 9</caption>\n",
       "<thead>\n",
       "\t<tr><th scope=col>day_number</th><th scope=col>region</th><th scope=col>country</th><th scope=col>state</th><th scope=col>city</th><th scope=col>month</th><th scope=col>day</th><th scope=col>year</th><th scope=col>temp</th></tr>\n",
       "\t<tr><th scope=col>&lt;int&gt;</th><th scope=col>&lt;chr&gt;</th><th scope=col>&lt;chr&gt;</th><th scope=col>&lt;lgl&gt;</th><th scope=col>&lt;chr&gt;</th><th scope=col>&lt;int&gt;</th><th scope=col>&lt;int&gt;</th><th scope=col>&lt;int&gt;</th><th scope=col>&lt;dbl&gt;</th></tr>\n",
       "</thead>\n",
       "<tbody>\n",
       "\t<tr><td> 1</td><td>Europe</td><td>Poland</td><td>NA</td><td>Warsaw</td><td>1</td><td> 1</td><td>1995</td><td>35.4</td></tr>\n",
       "\t<tr><td> 2</td><td>Europe</td><td>Poland</td><td>NA</td><td>Warsaw</td><td>1</td><td> 2</td><td>1995</td><td>30.5</td></tr>\n",
       "\t<tr><td> 3</td><td>Europe</td><td>Poland</td><td>NA</td><td>Warsaw</td><td>1</td><td> 3</td><td>1995</td><td>27.2</td></tr>\n",
       "\t<tr><td> 4</td><td>Europe</td><td>Poland</td><td>NA</td><td>Warsaw</td><td>1</td><td> 4</td><td>1995</td><td>22.9</td></tr>\n",
       "\t<tr><td> 5</td><td>Europe</td><td>Poland</td><td>NA</td><td>Warsaw</td><td>1</td><td> 5</td><td>1995</td><td>18.7</td></tr>\n",
       "\t<tr><td> 6</td><td>Europe</td><td>Poland</td><td>NA</td><td>Warsaw</td><td>1</td><td> 6</td><td>1995</td><td>19.7</td></tr>\n",
       "\t<tr><td> 7</td><td>Europe</td><td>Poland</td><td>NA</td><td>Warsaw</td><td>1</td><td> 7</td><td>1995</td><td>21.6</td></tr>\n",
       "\t<tr><td> 8</td><td>Europe</td><td>Poland</td><td>NA</td><td>Warsaw</td><td>1</td><td> 8</td><td>1995</td><td>26.6</td></tr>\n",
       "\t<tr><td> 9</td><td>Europe</td><td>Poland</td><td>NA</td><td>Warsaw</td><td>1</td><td> 9</td><td>1995</td><td>27.4</td></tr>\n",
       "\t<tr><td>10</td><td>Europe</td><td>Poland</td><td>NA</td><td>Warsaw</td><td>1</td><td>10</td><td>1995</td><td>31.0</td></tr>\n",
       "\t<tr><td>11</td><td>Europe</td><td>Poland</td><td>NA</td><td>Warsaw</td><td>1</td><td>11</td><td>1995</td><td>30.9</td></tr>\n",
       "\t<tr><td>12</td><td>Europe</td><td>Poland</td><td>NA</td><td>Warsaw</td><td>1</td><td>12</td><td>1995</td><td>30.8</td></tr>\n",
       "\t<tr><td>13</td><td>Europe</td><td>Poland</td><td>NA</td><td>Warsaw</td><td>1</td><td>13</td><td>1995</td><td>28.5</td></tr>\n",
       "\t<tr><td>14</td><td>Europe</td><td>Poland</td><td>NA</td><td>Warsaw</td><td>1</td><td>14</td><td>1995</td><td>20.4</td></tr>\n",
       "\t<tr><td>15</td><td>Europe</td><td>Poland</td><td>NA</td><td>Warsaw</td><td>1</td><td>15</td><td>1995</td><td>27.6</td></tr>\n",
       "\t<tr><td>16</td><td>Europe</td><td>Poland</td><td>NA</td><td>Warsaw</td><td>1</td><td>16</td><td>1995</td><td>30.7</td></tr>\n",
       "\t<tr><td>17</td><td>Europe</td><td>Poland</td><td>NA</td><td>Warsaw</td><td>1</td><td>17</td><td>1995</td><td>23.7</td></tr>\n",
       "\t<tr><td>18</td><td>Europe</td><td>Poland</td><td>NA</td><td>Warsaw</td><td>1</td><td>18</td><td>1995</td><td>20.0</td></tr>\n",
       "\t<tr><td>19</td><td>Europe</td><td>Poland</td><td>NA</td><td>Warsaw</td><td>1</td><td>19</td><td>1995</td><td>16.8</td></tr>\n",
       "\t<tr><td>20</td><td>Europe</td><td>Poland</td><td>NA</td><td>Warsaw</td><td>1</td><td>20</td><td>1995</td><td>16.0</td></tr>\n",
       "\t<tr><td>21</td><td>Europe</td><td>Poland</td><td>NA</td><td>Warsaw</td><td>1</td><td>21</td><td>1995</td><td>20.3</td></tr>\n",
       "\t<tr><td>22</td><td>Europe</td><td>Poland</td><td>NA</td><td>Warsaw</td><td>1</td><td>22</td><td>1995</td><td>29.5</td></tr>\n",
       "\t<tr><td>23</td><td>Europe</td><td>Poland</td><td>NA</td><td>Warsaw</td><td>1</td><td>23</td><td>1995</td><td>38.8</td></tr>\n",
       "\t<tr><td>24</td><td>Europe</td><td>Poland</td><td>NA</td><td>Warsaw</td><td>1</td><td>24</td><td>1995</td><td>38.8</td></tr>\n",
       "\t<tr><td>25</td><td>Europe</td><td>Poland</td><td>NA</td><td>Warsaw</td><td>1</td><td>25</td><td>1995</td><td>37.0</td></tr>\n",
       "\t<tr><td>26</td><td>Europe</td><td>Poland</td><td>NA</td><td>Warsaw</td><td>1</td><td>26</td><td>1995</td><td>39.9</td></tr>\n",
       "\t<tr><td>27</td><td>Europe</td><td>Poland</td><td>NA</td><td>Warsaw</td><td>1</td><td>27</td><td>1995</td><td>37.8</td></tr>\n",
       "\t<tr><td>28</td><td>Europe</td><td>Poland</td><td>NA</td><td>Warsaw</td><td>1</td><td>28</td><td>1995</td><td>34.4</td></tr>\n",
       "\t<tr><td>29</td><td>Europe</td><td>Poland</td><td>NA</td><td>Warsaw</td><td>1</td><td>29</td><td>1995</td><td>42.4</td></tr>\n",
       "\t<tr><td>30</td><td>Europe</td><td>Poland</td><td>NA</td><td>Warsaw</td><td>1</td><td>30</td><td>1995</td><td>40.6</td></tr>\n",
       "\t<tr><td>⋮</td><td>⋮</td><td>⋮</td><td>⋮</td><td>⋮</td><td>⋮</td><td>⋮</td><td>⋮</td><td>⋮</td></tr>\n",
       "\t<tr><td>9237</td><td>Europe</td><td>Poland</td><td>NA</td><td>Warsaw</td><td>4</td><td>14</td><td>2020</td><td>38.3</td></tr>\n",
       "\t<tr><td>9238</td><td>Europe</td><td>Poland</td><td>NA</td><td>Warsaw</td><td>4</td><td>15</td><td>2020</td><td>41.9</td></tr>\n",
       "\t<tr><td>9239</td><td>Europe</td><td>Poland</td><td>NA</td><td>Warsaw</td><td>4</td><td>16</td><td>2020</td><td>52.9</td></tr>\n",
       "\t<tr><td>9240</td><td>Europe</td><td>Poland</td><td>NA</td><td>Warsaw</td><td>4</td><td>17</td><td>2020</td><td>48.4</td></tr>\n",
       "\t<tr><td>9241</td><td>Europe</td><td>Poland</td><td>NA</td><td>Warsaw</td><td>4</td><td>18</td><td>2020</td><td>46.1</td></tr>\n",
       "\t<tr><td>9242</td><td>Europe</td><td>Poland</td><td>NA</td><td>Warsaw</td><td>4</td><td>19</td><td>2020</td><td>45.3</td></tr>\n",
       "\t<tr><td>9243</td><td>Europe</td><td>Poland</td><td>NA</td><td>Warsaw</td><td>4</td><td>20</td><td>2020</td><td>48.9</td></tr>\n",
       "\t<tr><td>9244</td><td>Europe</td><td>Poland</td><td>NA</td><td>Warsaw</td><td>4</td><td>21</td><td>2020</td><td>52.0</td></tr>\n",
       "\t<tr><td>9245</td><td>Europe</td><td>Poland</td><td>NA</td><td>Warsaw</td><td>4</td><td>22</td><td>2020</td><td>54.6</td></tr>\n",
       "\t<tr><td>9246</td><td>Europe</td><td>Poland</td><td>NA</td><td>Warsaw</td><td>4</td><td>23</td><td>2020</td><td>54.5</td></tr>\n",
       "\t<tr><td>9247</td><td>Europe</td><td>Poland</td><td>NA</td><td>Warsaw</td><td>4</td><td>24</td><td>2020</td><td>56.6</td></tr>\n",
       "\t<tr><td>9248</td><td>Europe</td><td>Poland</td><td>NA</td><td>Warsaw</td><td>4</td><td>25</td><td>2020</td><td>50.3</td></tr>\n",
       "\t<tr><td>9249</td><td>Europe</td><td>Poland</td><td>NA</td><td>Warsaw</td><td>4</td><td>26</td><td>2020</td><td>47.5</td></tr>\n",
       "\t<tr><td>9250</td><td>Europe</td><td>Poland</td><td>NA</td><td>Warsaw</td><td>4</td><td>27</td><td>2020</td><td>53.5</td></tr>\n",
       "\t<tr><td>9251</td><td>Europe</td><td>Poland</td><td>NA</td><td>Warsaw</td><td>4</td><td>28</td><td>2020</td><td>61.2</td></tr>\n",
       "\t<tr><td>9252</td><td>Europe</td><td>Poland</td><td>NA</td><td>Warsaw</td><td>4</td><td>29</td><td>2020</td><td>53.1</td></tr>\n",
       "\t<tr><td>9253</td><td>Europe</td><td>Poland</td><td>NA</td><td>Warsaw</td><td>4</td><td>30</td><td>2020</td><td>51.7</td></tr>\n",
       "\t<tr><td>9254</td><td>Europe</td><td>Poland</td><td>NA</td><td>Warsaw</td><td>5</td><td> 1</td><td>2020</td><td>52.1</td></tr>\n",
       "\t<tr><td>9255</td><td>Europe</td><td>Poland</td><td>NA</td><td>Warsaw</td><td>5</td><td> 2</td><td>2020</td><td>53.2</td></tr>\n",
       "\t<tr><td>9256</td><td>Europe</td><td>Poland</td><td>NA</td><td>Warsaw</td><td>5</td><td> 3</td><td>2020</td><td>50.8</td></tr>\n",
       "\t<tr><td>9257</td><td>Europe</td><td>Poland</td><td>NA</td><td>Warsaw</td><td>5</td><td> 4</td><td>2020</td><td>52.0</td></tr>\n",
       "\t<tr><td>9258</td><td>Europe</td><td>Poland</td><td>NA</td><td>Warsaw</td><td>5</td><td> 5</td><td>2020</td><td>46.3</td></tr>\n",
       "\t<tr><td>9259</td><td>Europe</td><td>Poland</td><td>NA</td><td>Warsaw</td><td>5</td><td> 6</td><td>2020</td><td>47.9</td></tr>\n",
       "\t<tr><td>9260</td><td>Europe</td><td>Poland</td><td>NA</td><td>Warsaw</td><td>5</td><td> 7</td><td>2020</td><td>51.1</td></tr>\n",
       "\t<tr><td>9261</td><td>Europe</td><td>Poland</td><td>NA</td><td>Warsaw</td><td>5</td><td> 8</td><td>2020</td><td>55.9</td></tr>\n",
       "\t<tr><td>9262</td><td>Europe</td><td>Poland</td><td>NA</td><td>Warsaw</td><td>5</td><td> 9</td><td>2020</td><td>57.9</td></tr>\n",
       "\t<tr><td>9263</td><td>Europe</td><td>Poland</td><td>NA</td><td>Warsaw</td><td>5</td><td>10</td><td>2020</td><td>63.5</td></tr>\n",
       "\t<tr><td>9264</td><td>Europe</td><td>Poland</td><td>NA</td><td>Warsaw</td><td>5</td><td>11</td><td>2020</td><td>62.3</td></tr>\n",
       "\t<tr><td>9265</td><td>Europe</td><td>Poland</td><td>NA</td><td>Warsaw</td><td>5</td><td>12</td><td>2020</td><td>42.8</td></tr>\n",
       "\t<tr><td>9266</td><td>Europe</td><td>Poland</td><td>NA</td><td>Warsaw</td><td>5</td><td>13</td><td>2020</td><td>39.8</td></tr>\n",
       "</tbody>\n",
       "</table>\n"
      ],
      "text/latex": [
       "A data.frame: 9266 × 9\n",
       "\\begin{tabular}{lllllllll}\n",
       " day\\_number & region & country & state & city & month & day & year & temp\\\\\n",
       " <int> & <chr> & <chr> & <lgl> & <chr> & <int> & <int> & <int> & <dbl>\\\\\n",
       "\\hline\n",
       "\t  1 & Europe & Poland & NA & Warsaw & 1 &  1 & 1995 & 35.4\\\\\n",
       "\t  2 & Europe & Poland & NA & Warsaw & 1 &  2 & 1995 & 30.5\\\\\n",
       "\t  3 & Europe & Poland & NA & Warsaw & 1 &  3 & 1995 & 27.2\\\\\n",
       "\t  4 & Europe & Poland & NA & Warsaw & 1 &  4 & 1995 & 22.9\\\\\n",
       "\t  5 & Europe & Poland & NA & Warsaw & 1 &  5 & 1995 & 18.7\\\\\n",
       "\t  6 & Europe & Poland & NA & Warsaw & 1 &  6 & 1995 & 19.7\\\\\n",
       "\t  7 & Europe & Poland & NA & Warsaw & 1 &  7 & 1995 & 21.6\\\\\n",
       "\t  8 & Europe & Poland & NA & Warsaw & 1 &  8 & 1995 & 26.6\\\\\n",
       "\t  9 & Europe & Poland & NA & Warsaw & 1 &  9 & 1995 & 27.4\\\\\n",
       "\t 10 & Europe & Poland & NA & Warsaw & 1 & 10 & 1995 & 31.0\\\\\n",
       "\t 11 & Europe & Poland & NA & Warsaw & 1 & 11 & 1995 & 30.9\\\\\n",
       "\t 12 & Europe & Poland & NA & Warsaw & 1 & 12 & 1995 & 30.8\\\\\n",
       "\t 13 & Europe & Poland & NA & Warsaw & 1 & 13 & 1995 & 28.5\\\\\n",
       "\t 14 & Europe & Poland & NA & Warsaw & 1 & 14 & 1995 & 20.4\\\\\n",
       "\t 15 & Europe & Poland & NA & Warsaw & 1 & 15 & 1995 & 27.6\\\\\n",
       "\t 16 & Europe & Poland & NA & Warsaw & 1 & 16 & 1995 & 30.7\\\\\n",
       "\t 17 & Europe & Poland & NA & Warsaw & 1 & 17 & 1995 & 23.7\\\\\n",
       "\t 18 & Europe & Poland & NA & Warsaw & 1 & 18 & 1995 & 20.0\\\\\n",
       "\t 19 & Europe & Poland & NA & Warsaw & 1 & 19 & 1995 & 16.8\\\\\n",
       "\t 20 & Europe & Poland & NA & Warsaw & 1 & 20 & 1995 & 16.0\\\\\n",
       "\t 21 & Europe & Poland & NA & Warsaw & 1 & 21 & 1995 & 20.3\\\\\n",
       "\t 22 & Europe & Poland & NA & Warsaw & 1 & 22 & 1995 & 29.5\\\\\n",
       "\t 23 & Europe & Poland & NA & Warsaw & 1 & 23 & 1995 & 38.8\\\\\n",
       "\t 24 & Europe & Poland & NA & Warsaw & 1 & 24 & 1995 & 38.8\\\\\n",
       "\t 25 & Europe & Poland & NA & Warsaw & 1 & 25 & 1995 & 37.0\\\\\n",
       "\t 26 & Europe & Poland & NA & Warsaw & 1 & 26 & 1995 & 39.9\\\\\n",
       "\t 27 & Europe & Poland & NA & Warsaw & 1 & 27 & 1995 & 37.8\\\\\n",
       "\t 28 & Europe & Poland & NA & Warsaw & 1 & 28 & 1995 & 34.4\\\\\n",
       "\t 29 & Europe & Poland & NA & Warsaw & 1 & 29 & 1995 & 42.4\\\\\n",
       "\t 30 & Europe & Poland & NA & Warsaw & 1 & 30 & 1995 & 40.6\\\\\n",
       "\t ⋮ & ⋮ & ⋮ & ⋮ & ⋮ & ⋮ & ⋮ & ⋮ & ⋮\\\\\n",
       "\t 9237 & Europe & Poland & NA & Warsaw & 4 & 14 & 2020 & 38.3\\\\\n",
       "\t 9238 & Europe & Poland & NA & Warsaw & 4 & 15 & 2020 & 41.9\\\\\n",
       "\t 9239 & Europe & Poland & NA & Warsaw & 4 & 16 & 2020 & 52.9\\\\\n",
       "\t 9240 & Europe & Poland & NA & Warsaw & 4 & 17 & 2020 & 48.4\\\\\n",
       "\t 9241 & Europe & Poland & NA & Warsaw & 4 & 18 & 2020 & 46.1\\\\\n",
       "\t 9242 & Europe & Poland & NA & Warsaw & 4 & 19 & 2020 & 45.3\\\\\n",
       "\t 9243 & Europe & Poland & NA & Warsaw & 4 & 20 & 2020 & 48.9\\\\\n",
       "\t 9244 & Europe & Poland & NA & Warsaw & 4 & 21 & 2020 & 52.0\\\\\n",
       "\t 9245 & Europe & Poland & NA & Warsaw & 4 & 22 & 2020 & 54.6\\\\\n",
       "\t 9246 & Europe & Poland & NA & Warsaw & 4 & 23 & 2020 & 54.5\\\\\n",
       "\t 9247 & Europe & Poland & NA & Warsaw & 4 & 24 & 2020 & 56.6\\\\\n",
       "\t 9248 & Europe & Poland & NA & Warsaw & 4 & 25 & 2020 & 50.3\\\\\n",
       "\t 9249 & Europe & Poland & NA & Warsaw & 4 & 26 & 2020 & 47.5\\\\\n",
       "\t 9250 & Europe & Poland & NA & Warsaw & 4 & 27 & 2020 & 53.5\\\\\n",
       "\t 9251 & Europe & Poland & NA & Warsaw & 4 & 28 & 2020 & 61.2\\\\\n",
       "\t 9252 & Europe & Poland & NA & Warsaw & 4 & 29 & 2020 & 53.1\\\\\n",
       "\t 9253 & Europe & Poland & NA & Warsaw & 4 & 30 & 2020 & 51.7\\\\\n",
       "\t 9254 & Europe & Poland & NA & Warsaw & 5 &  1 & 2020 & 52.1\\\\\n",
       "\t 9255 & Europe & Poland & NA & Warsaw & 5 &  2 & 2020 & 53.2\\\\\n",
       "\t 9256 & Europe & Poland & NA & Warsaw & 5 &  3 & 2020 & 50.8\\\\\n",
       "\t 9257 & Europe & Poland & NA & Warsaw & 5 &  4 & 2020 & 52.0\\\\\n",
       "\t 9258 & Europe & Poland & NA & Warsaw & 5 &  5 & 2020 & 46.3\\\\\n",
       "\t 9259 & Europe & Poland & NA & Warsaw & 5 &  6 & 2020 & 47.9\\\\\n",
       "\t 9260 & Europe & Poland & NA & Warsaw & 5 &  7 & 2020 & 51.1\\\\\n",
       "\t 9261 & Europe & Poland & NA & Warsaw & 5 &  8 & 2020 & 55.9\\\\\n",
       "\t 9262 & Europe & Poland & NA & Warsaw & 5 &  9 & 2020 & 57.9\\\\\n",
       "\t 9263 & Europe & Poland & NA & Warsaw & 5 & 10 & 2020 & 63.5\\\\\n",
       "\t 9264 & Europe & Poland & NA & Warsaw & 5 & 11 & 2020 & 62.3\\\\\n",
       "\t 9265 & Europe & Poland & NA & Warsaw & 5 & 12 & 2020 & 42.8\\\\\n",
       "\t 9266 & Europe & Poland & NA & Warsaw & 5 & 13 & 2020 & 39.8\\\\\n",
       "\\end{tabular}\n"
      ],
      "text/markdown": [
       "\n",
       "A data.frame: 9266 × 9\n",
       "\n",
       "| day_number &lt;int&gt; | region &lt;chr&gt; | country &lt;chr&gt; | state &lt;lgl&gt; | city &lt;chr&gt; | month &lt;int&gt; | day &lt;int&gt; | year &lt;int&gt; | temp &lt;dbl&gt; |\n",
       "|---|---|---|---|---|---|---|---|---|\n",
       "|  1 | Europe | Poland | NA | Warsaw | 1 |  1 | 1995 | 35.4 |\n",
       "|  2 | Europe | Poland | NA | Warsaw | 1 |  2 | 1995 | 30.5 |\n",
       "|  3 | Europe | Poland | NA | Warsaw | 1 |  3 | 1995 | 27.2 |\n",
       "|  4 | Europe | Poland | NA | Warsaw | 1 |  4 | 1995 | 22.9 |\n",
       "|  5 | Europe | Poland | NA | Warsaw | 1 |  5 | 1995 | 18.7 |\n",
       "|  6 | Europe | Poland | NA | Warsaw | 1 |  6 | 1995 | 19.7 |\n",
       "|  7 | Europe | Poland | NA | Warsaw | 1 |  7 | 1995 | 21.6 |\n",
       "|  8 | Europe | Poland | NA | Warsaw | 1 |  8 | 1995 | 26.6 |\n",
       "|  9 | Europe | Poland | NA | Warsaw | 1 |  9 | 1995 | 27.4 |\n",
       "| 10 | Europe | Poland | NA | Warsaw | 1 | 10 | 1995 | 31.0 |\n",
       "| 11 | Europe | Poland | NA | Warsaw | 1 | 11 | 1995 | 30.9 |\n",
       "| 12 | Europe | Poland | NA | Warsaw | 1 | 12 | 1995 | 30.8 |\n",
       "| 13 | Europe | Poland | NA | Warsaw | 1 | 13 | 1995 | 28.5 |\n",
       "| 14 | Europe | Poland | NA | Warsaw | 1 | 14 | 1995 | 20.4 |\n",
       "| 15 | Europe | Poland | NA | Warsaw | 1 | 15 | 1995 | 27.6 |\n",
       "| 16 | Europe | Poland | NA | Warsaw | 1 | 16 | 1995 | 30.7 |\n",
       "| 17 | Europe | Poland | NA | Warsaw | 1 | 17 | 1995 | 23.7 |\n",
       "| 18 | Europe | Poland | NA | Warsaw | 1 | 18 | 1995 | 20.0 |\n",
       "| 19 | Europe | Poland | NA | Warsaw | 1 | 19 | 1995 | 16.8 |\n",
       "| 20 | Europe | Poland | NA | Warsaw | 1 | 20 | 1995 | 16.0 |\n",
       "| 21 | Europe | Poland | NA | Warsaw | 1 | 21 | 1995 | 20.3 |\n",
       "| 22 | Europe | Poland | NA | Warsaw | 1 | 22 | 1995 | 29.5 |\n",
       "| 23 | Europe | Poland | NA | Warsaw | 1 | 23 | 1995 | 38.8 |\n",
       "| 24 | Europe | Poland | NA | Warsaw | 1 | 24 | 1995 | 38.8 |\n",
       "| 25 | Europe | Poland | NA | Warsaw | 1 | 25 | 1995 | 37.0 |\n",
       "| 26 | Europe | Poland | NA | Warsaw | 1 | 26 | 1995 | 39.9 |\n",
       "| 27 | Europe | Poland | NA | Warsaw | 1 | 27 | 1995 | 37.8 |\n",
       "| 28 | Europe | Poland | NA | Warsaw | 1 | 28 | 1995 | 34.4 |\n",
       "| 29 | Europe | Poland | NA | Warsaw | 1 | 29 | 1995 | 42.4 |\n",
       "| 30 | Europe | Poland | NA | Warsaw | 1 | 30 | 1995 | 40.6 |\n",
       "| ⋮ | ⋮ | ⋮ | ⋮ | ⋮ | ⋮ | ⋮ | ⋮ | ⋮ |\n",
       "| 9237 | Europe | Poland | NA | Warsaw | 4 | 14 | 2020 | 38.3 |\n",
       "| 9238 | Europe | Poland | NA | Warsaw | 4 | 15 | 2020 | 41.9 |\n",
       "| 9239 | Europe | Poland | NA | Warsaw | 4 | 16 | 2020 | 52.9 |\n",
       "| 9240 | Europe | Poland | NA | Warsaw | 4 | 17 | 2020 | 48.4 |\n",
       "| 9241 | Europe | Poland | NA | Warsaw | 4 | 18 | 2020 | 46.1 |\n",
       "| 9242 | Europe | Poland | NA | Warsaw | 4 | 19 | 2020 | 45.3 |\n",
       "| 9243 | Europe | Poland | NA | Warsaw | 4 | 20 | 2020 | 48.9 |\n",
       "| 9244 | Europe | Poland | NA | Warsaw | 4 | 21 | 2020 | 52.0 |\n",
       "| 9245 | Europe | Poland | NA | Warsaw | 4 | 22 | 2020 | 54.6 |\n",
       "| 9246 | Europe | Poland | NA | Warsaw | 4 | 23 | 2020 | 54.5 |\n",
       "| 9247 | Europe | Poland | NA | Warsaw | 4 | 24 | 2020 | 56.6 |\n",
       "| 9248 | Europe | Poland | NA | Warsaw | 4 | 25 | 2020 | 50.3 |\n",
       "| 9249 | Europe | Poland | NA | Warsaw | 4 | 26 | 2020 | 47.5 |\n",
       "| 9250 | Europe | Poland | NA | Warsaw | 4 | 27 | 2020 | 53.5 |\n",
       "| 9251 | Europe | Poland | NA | Warsaw | 4 | 28 | 2020 | 61.2 |\n",
       "| 9252 | Europe | Poland | NA | Warsaw | 4 | 29 | 2020 | 53.1 |\n",
       "| 9253 | Europe | Poland | NA | Warsaw | 4 | 30 | 2020 | 51.7 |\n",
       "| 9254 | Europe | Poland | NA | Warsaw | 5 |  1 | 2020 | 52.1 |\n",
       "| 9255 | Europe | Poland | NA | Warsaw | 5 |  2 | 2020 | 53.2 |\n",
       "| 9256 | Europe | Poland | NA | Warsaw | 5 |  3 | 2020 | 50.8 |\n",
       "| 9257 | Europe | Poland | NA | Warsaw | 5 |  4 | 2020 | 52.0 |\n",
       "| 9258 | Europe | Poland | NA | Warsaw | 5 |  5 | 2020 | 46.3 |\n",
       "| 9259 | Europe | Poland | NA | Warsaw | 5 |  6 | 2020 | 47.9 |\n",
       "| 9260 | Europe | Poland | NA | Warsaw | 5 |  7 | 2020 | 51.1 |\n",
       "| 9261 | Europe | Poland | NA | Warsaw | 5 |  8 | 2020 | 55.9 |\n",
       "| 9262 | Europe | Poland | NA | Warsaw | 5 |  9 | 2020 | 57.9 |\n",
       "| 9263 | Europe | Poland | NA | Warsaw | 5 | 10 | 2020 | 63.5 |\n",
       "| 9264 | Europe | Poland | NA | Warsaw | 5 | 11 | 2020 | 62.3 |\n",
       "| 9265 | Europe | Poland | NA | Warsaw | 5 | 12 | 2020 | 42.8 |\n",
       "| 9266 | Europe | Poland | NA | Warsaw | 5 | 13 | 2020 | 39.8 |\n",
       "\n"
      ],
      "text/plain": [
       "     day_number region country state city   month day year temp\n",
       "1     1         Europe Poland  NA    Warsaw 1      1  1995 35.4\n",
       "2     2         Europe Poland  NA    Warsaw 1      2  1995 30.5\n",
       "3     3         Europe Poland  NA    Warsaw 1      3  1995 27.2\n",
       "4     4         Europe Poland  NA    Warsaw 1      4  1995 22.9\n",
       "5     5         Europe Poland  NA    Warsaw 1      5  1995 18.7\n",
       "6     6         Europe Poland  NA    Warsaw 1      6  1995 19.7\n",
       "7     7         Europe Poland  NA    Warsaw 1      7  1995 21.6\n",
       "8     8         Europe Poland  NA    Warsaw 1      8  1995 26.6\n",
       "9     9         Europe Poland  NA    Warsaw 1      9  1995 27.4\n",
       "10   10         Europe Poland  NA    Warsaw 1     10  1995 31.0\n",
       "11   11         Europe Poland  NA    Warsaw 1     11  1995 30.9\n",
       "12   12         Europe Poland  NA    Warsaw 1     12  1995 30.8\n",
       "13   13         Europe Poland  NA    Warsaw 1     13  1995 28.5\n",
       "14   14         Europe Poland  NA    Warsaw 1     14  1995 20.4\n",
       "15   15         Europe Poland  NA    Warsaw 1     15  1995 27.6\n",
       "16   16         Europe Poland  NA    Warsaw 1     16  1995 30.7\n",
       "17   17         Europe Poland  NA    Warsaw 1     17  1995 23.7\n",
       "18   18         Europe Poland  NA    Warsaw 1     18  1995 20.0\n",
       "19   19         Europe Poland  NA    Warsaw 1     19  1995 16.8\n",
       "20   20         Europe Poland  NA    Warsaw 1     20  1995 16.0\n",
       "21   21         Europe Poland  NA    Warsaw 1     21  1995 20.3\n",
       "22   22         Europe Poland  NA    Warsaw 1     22  1995 29.5\n",
       "23   23         Europe Poland  NA    Warsaw 1     23  1995 38.8\n",
       "24   24         Europe Poland  NA    Warsaw 1     24  1995 38.8\n",
       "25   25         Europe Poland  NA    Warsaw 1     25  1995 37.0\n",
       "26   26         Europe Poland  NA    Warsaw 1     26  1995 39.9\n",
       "27   27         Europe Poland  NA    Warsaw 1     27  1995 37.8\n",
       "28   28         Europe Poland  NA    Warsaw 1     28  1995 34.4\n",
       "29   29         Europe Poland  NA    Warsaw 1     29  1995 42.4\n",
       "30   30         Europe Poland  NA    Warsaw 1     30  1995 40.6\n",
       "⋮    ⋮          ⋮      ⋮       ⋮     ⋮      ⋮     ⋮   ⋮    ⋮   \n",
       "9237 9237       Europe Poland  NA    Warsaw 4     14  2020 38.3\n",
       "9238 9238       Europe Poland  NA    Warsaw 4     15  2020 41.9\n",
       "9239 9239       Europe Poland  NA    Warsaw 4     16  2020 52.9\n",
       "9240 9240       Europe Poland  NA    Warsaw 4     17  2020 48.4\n",
       "9241 9241       Europe Poland  NA    Warsaw 4     18  2020 46.1\n",
       "9242 9242       Europe Poland  NA    Warsaw 4     19  2020 45.3\n",
       "9243 9243       Europe Poland  NA    Warsaw 4     20  2020 48.9\n",
       "9244 9244       Europe Poland  NA    Warsaw 4     21  2020 52.0\n",
       "9245 9245       Europe Poland  NA    Warsaw 4     22  2020 54.6\n",
       "9246 9246       Europe Poland  NA    Warsaw 4     23  2020 54.5\n",
       "9247 9247       Europe Poland  NA    Warsaw 4     24  2020 56.6\n",
       "9248 9248       Europe Poland  NA    Warsaw 4     25  2020 50.3\n",
       "9249 9249       Europe Poland  NA    Warsaw 4     26  2020 47.5\n",
       "9250 9250       Europe Poland  NA    Warsaw 4     27  2020 53.5\n",
       "9251 9251       Europe Poland  NA    Warsaw 4     28  2020 61.2\n",
       "9252 9252       Europe Poland  NA    Warsaw 4     29  2020 53.1\n",
       "9253 9253       Europe Poland  NA    Warsaw 4     30  2020 51.7\n",
       "9254 9254       Europe Poland  NA    Warsaw 5      1  2020 52.1\n",
       "9255 9255       Europe Poland  NA    Warsaw 5      2  2020 53.2\n",
       "9256 9256       Europe Poland  NA    Warsaw 5      3  2020 50.8\n",
       "9257 9257       Europe Poland  NA    Warsaw 5      4  2020 52.0\n",
       "9258 9258       Europe Poland  NA    Warsaw 5      5  2020 46.3\n",
       "9259 9259       Europe Poland  NA    Warsaw 5      6  2020 47.9\n",
       "9260 9260       Europe Poland  NA    Warsaw 5      7  2020 51.1\n",
       "9261 9261       Europe Poland  NA    Warsaw 5      8  2020 55.9\n",
       "9262 9262       Europe Poland  NA    Warsaw 5      9  2020 57.9\n",
       "9263 9263       Europe Poland  NA    Warsaw 5     10  2020 63.5\n",
       "9264 9264       Europe Poland  NA    Warsaw 5     11  2020 62.3\n",
       "9265 9265       Europe Poland  NA    Warsaw 5     12  2020 42.8\n",
       "9266 9266       Europe Poland  NA    Warsaw 5     13  2020 39.8"
      ]
     },
     "metadata": {},
     "output_type": "display_data"
    }
   ],
   "source": [
    "data <- read.csv(\"data/data.csv\")\n",
    "data"
   ]
  },
  {
   "cell_type": "code",
   "execution_count": 15,
   "metadata": {
    "vscode": {
     "languageId": "r"
    }
   },
   "outputs": [],
   "source": [
    "new_data <- data[2730:4622,]\n",
    "day <- new_data$day_number\n",
    "temp <- new_data$temp"
   ]
  },
  {
   "cell_type": "code",
   "execution_count": 16,
   "metadata": {
    "vscode": {
     "languageId": "r"
    }
   },
   "outputs": [
    {
     "data": {
      "image/png": "[encoded data removed]",
      "text/plain": [
       "plot without title"
      ]
     },
     "metadata": {
      "image/png": {
       "height": 480,
       "width": 720
      }
     },
     "output_type": "display_data"
    }
   ],
   "source": [
    "ggplot() + geom_line(aes(x=day, y=temp))"
   ]
  },
  {
   "cell_type": "code",
   "execution_count": 40,
   "metadata": {
    "vscode": {
     "languageId": "r"
    }
   },
   "outputs": [
    {
     "data": {
      "image/png": "[encoded data removed]",
      "text/plain": [
       "Plot with title \"Series  temp_diff\""
      ]
     },
     "metadata": {
      "image/png": {
       "height": 480,
       "width": 720
      }
     },
     "output_type": "display_data"
    },
    {
     "data": {
      "image/png": "[encoded data removed]",
      "text/plain": [
       "Plot with title \"Series  temp_diff\""
      ]
     },
     "metadata": {
      "image/png": {
       "height": 480,
       "width": 720
      }
     },
     "output_type": "display_data"
    }
   ],
   "source": [
    "temp_diff <- diff(temp)\n",
    "acf(temp_diff)\n",
    "pacf(temp_diff)"
   ]
  },
  {
   "cell_type": "code",
   "execution_count": 41,
   "metadata": {
    "vscode": {
     "languageId": "r"
    }
   },
   "outputs": [
    {
     "data": {
      "image/png": "[encoded data removed]",
      "text/plain": [
       "plot without title"
      ]
     },
     "metadata": {
      "image/png": {
       "height": 480,
       "width": 720
      }
     },
     "output_type": "display_data"
    }
   ],
   "source": [
    "ggplot() + geom_line(aes(1:length(temp_diff), temp_diff))"
   ]
  },
  {
   "cell_type": "code",
   "execution_count": 39,
   "metadata": {
    "vscode": {
     "languageId": "r"
    }
   },
   "outputs": [
    {
     "name": "stderr",
     "output_type": "stream",
     "text": [
      "Warning message in arima(diff(temp), order = c(p, 0, q)):\n",
      "\"prawdopodobny problem zbieżności: 'optim' zwrócił kod= 1\"\n",
      "Warning message in arima(diff(temp), order = c(p, 0, q)):\n",
      "\"prawdopodobny problem zbieżności: 'optim' zwrócił kod= 1\"\n",
      "Warning message in arima(diff(temp), order = c(p, 0, q)):\n",
      "\"prawdopodobny problem zbieżności: 'optim' zwrócił kod= 1\"\n",
      "Warning message in arima(diff(temp), order = c(p, 0, q)):\n",
      "\"prawdopodobny problem zbieżności: 'optim' zwrócił kod= 1\"\n",
      "Warning message in arima(diff(temp), order = c(p, 0, q)):\n",
      "\"prawdopodobny problem zbieżności: 'optim' zwrócił kod= 1\"\n",
      "Warning message in arima(diff(temp), order = c(p, 0, q)):\n",
      "\"prawdopodobny problem zbieżności: 'optim' zwrócił kod= 1\"\n",
      "Warning message in arima(diff(temp), order = c(p, 0, q)):\n",
      "\"prawdopodobny problem zbieżności: 'optim' zwrócił kod= 1\"\n",
      "Warning message in arima(diff(temp), order = c(p, 0, q)):\n",
      "\"prawdopodobny problem zbieżności: 'optim' zwrócił kod= 1\"\n"
     ]
    },
    {
     "data": {
      "text/html": [
       "<style>\n",
       ".list-inline {list-style: none; margin:0; padding: 0}\n",
       ".list-inline>li {display: inline-block}\n",
       ".list-inline>li:not(:last-child)::after {content: \"\\00b7\"; padding: 0 .5ex}\n",
       "</style>\n",
       "<ol class=list-inline><li>3</li><li>4</li></ol>\n"
      ],
      "text/latex": [
       "\\begin{enumerate*}\n",
       "\\item 3\n",
       "\\item 4\n",
       "\\end{enumerate*}\n"
      ],
      "text/markdown": [
       "1. 3\n",
       "2. 4\n",
       "\n",
       "\n"
      ],
      "text/plain": [
       "[1] 3 4"
      ]
     },
     "metadata": {},
     "output_type": "display_data"
    }
   ],
   "source": [
    "p_max <- 5\n",
    "q_max <- 5\n",
    "\n",
    "AIC_values <- matrix(nrow=p_max+1, ncol=q_max+1)\n",
    "\n",
    "for (p in 0:p_max){\n",
    "  for (q in 0:q_max){\n",
    "    model <- arima(temp_diff, order = c(p, 0, q))\n",
    "    AIC_values[p+1, q+1] <- model$aic\n",
    "  }\n",
    "}\n",
    "\n",
    "indices <- which(AIC_values == min(AIC_values), arr.ind = TRUE)\n",
    "p_found <- indices[1]-1\n",
    "q_found <- indices[2]-1\n",
    "c(p_found, q_found)"
   ]
  },
  {
   "cell_type": "code",
   "execution_count": 42,
   "metadata": {
    "vscode": {
     "languageId": "r"
    }
   },
   "outputs": [
    {
     "name": "stdout",
     "output_type": "stream",
     "text": [
      "\n",
      "Call:\n",
      "arima(x = y, order = c(3, 0, 4))\n",
      "\n",
      "Coefficients:\n"
     ]
    },
    {
     "name": "stderr",
     "output_type": "stream",
     "text": [
      "Warning message in sqrt(diag(x$var.coef)):\n",
      "\"wyprodukowano wartości NaN\"\n"
     ]
    },
    {
     "name": "stdout",
     "output_type": "stream",
     "text": [
      "         ar1      ar2      ar3     ma1     ma2     ma3      ma4  intercept\n",
      "      0.2685  -0.4513  -0.0595  0.7412  0.3848  0.0284  -0.0035     0.0007\n",
      "s.e.     NaN      NaN      NaN     NaN     NaN     NaN   0.0169     0.0346\n",
      "\n",
      "sigma^2 estimated as 3.996:  log likelihood = -21116.62,  aic = 42251.23\n"
     ]
    }
   ],
   "source": [
    "model <- arima(y, order = c(3, 0, 4))\n",
    "\n",
    "print(model)\n",
    "\n",
    "coefficients <- model$coef\n",
    "coef_sigma2 <- model$sigma2\n",
    "AIC_value <- model$aic\n",
    "residuals <- model$residuals"
   ]
  },
  {
   "cell_type": "code",
   "execution_count": 2,
   "metadata": {
    "vscode": {
     "languageId": "r"
    }
   },
   "outputs": [
    {
     "name": "stdout",
     "output_type": "stream",
     "text": [
      "\n",
      "Call:\n",
      "arima(x = y, order = c(p1, 0, q1))\n",
      "\n",
      "Coefficients:\n",
      "         ar1      ar2     ma1     ma2  intercept\n",
      "      0.3867  -0.5041  0.6235  0.3193     0.0000\n",
      "s.e.  0.0191   0.0117  0.0205  0.0165     0.0348\n",
      "\n",
      "sigma^2 estimated as 3.996:  log likelihood = -21116.66,  aic = 42245.32\n"
     ]
    },
    {
     "data": {
      "text/html": [
       "2"
      ],
      "text/latex": [
       "2"
      ],
      "text/markdown": [
       "2"
      ],
      "text/plain": [
       "[1] 2"
      ]
     },
     "metadata": {},
     "output_type": "display_data"
    },
    {
     "data": {
      "text/html": [
       "2"
      ],
      "text/latex": [
       "2"
      ],
      "text/markdown": [
       "2"
      ],
      "text/plain": [
       "[1] 2"
      ]
     },
     "metadata": {},
     "output_type": "display_data"
    }
   ],
   "source": [
    "library(stats)\n",
    "set.seed(12345)\n",
    "\n",
    "\n",
    "#symulacja trajektorii ARMA(2,2)\n",
    "#phi1 = 0.4, phi2 = -0.5, theta1 = 0.6, theta2 = 0.3, sigma = 2\n",
    "y <- arima.sim(model = list(order = c(2,0,2), ar = c(0.4,-0.5), ma = c(0.6,0.3)), n = 10000, sd = 2)\n",
    "\n",
    "#dobieranie modelu ARMA do danych (dla wybranych rz�d�w p=2,q=2)\n",
    "#(za��my, �e dane to wysymulowana wczesniej trajektoria y)\n",
    "p1 <- 2\n",
    "q1 <- 2\n",
    "y <- y - mean(y) #odjecie sredniej od danych\n",
    "model <- arima(y,order=c(p1,0,q1))\n",
    "\n",
    "print(model) #og�lne \"podsumowanie\" dobranego modelu\n",
    "\n",
    "coefficients <- model$coef #warto�ci wsp�czynnik�w dobranego modelu (bez sigma^2)\n",
    "coef_sigma2 <- model$sigma2 #warto�� wyestymowanej sigma^2\n",
    "\n",
    "AIC_value <- model$aic #wartosc kryterium informacyjnego AIC\n",
    "\n",
    "residuals <- model$residuals #wektor residu�w\n",
    "\n",
    "######\n",
    "#update: wyb�r rz�d�w p,q przy u�yciu kryterium informacyjnego AIC\n",
    "#sprawdzamy wszystkie kombinacje p,q dla p=0,1,...,p_max, q=0,1,...,q_max \n",
    "#dla ka�dej z nich dobieramy model ARMA(p,q) i liczymy warto�� AIC\n",
    "#we�my p_max = 5, q_max = 5\n",
    "p_max <- 5\n",
    "q_max <- 5\n",
    "\n",
    "AIC_values <- matrix(nrow=p_max+1, ncol=q_max+1) #macierz warto�ci AIC dla wszystkich sprawdzanych modeli \n",
    "#(element w i-tym wierszu i j-tej kolumnie to warto�� AIC dla modelu ARMA(i-1,j-1))\n",
    "\n",
    "for (p in 0:p_max){\n",
    "  for (q in 0:q_max){\n",
    "    model <- arima(y,order=c(p,0,q))\n",
    "    AIC_values[p+1,q+1] <- model$aic\n",
    "  }\n",
    "}\n",
    "\n",
    "indices <- which(AIC_values == min(AIC_values), arr.ind = TRUE) #szukamy indeks�w macierzy, dla kt�rej dostali�my najmniejsze AIC\n",
    "#wysz�o 3,3, co prowadzi nas do modelu:\n",
    "p_found <- indices[1]-1\n",
    "q_found <- indices[2]-1\n",
    "#...ARMA(2,2) (czyli dok�adnie ten, z kt�rego symulowali�my badan� pr�b�).\n",
    "p_found\n",
    "q_found"
   ]
  }
 ],
 "metadata": {
  "kernelspec": {
   "display_name": "R",
   "language": "R",
   "name": "ir"
  },
  "language_info": {
   "codemirror_mode": "r",
   "file_extension": ".r",
   "mimetype": "text/x-r-source",
   "name": "R",
   "pygments_lexer": "r",
   "version": "4.2.1"
  },
  "vscode": {
   "interpreter": {
    "hash": "3642fac518df875dfc1e3099fad2db5ed30440d4d90cf4826d3ffcbb62426672"
   }
  }
 },
 "nbformat": 4,
 "nbformat_minor": 2
}
