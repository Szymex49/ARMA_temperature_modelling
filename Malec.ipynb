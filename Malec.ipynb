{
 "cells": [
  {
   "cell_type": "code",
   "execution_count": 2,
   "metadata": {
    "vscode": {
     "languageId": "r"
    }
   },
   "outputs": [],
   "source": [
    "library(dplyr)\n",
    "library(ggplot2)\n",
    "library(zeallot)\n",
    "library(tidyr)\n",
    "library(reshape2)\n",
    "library(cowplot)\n",
    "library(latex2exp)"
   ]
  },
  {
   "cell_type": "code",
   "execution_count": 3,
   "metadata": {
    "vscode": {
     "languageId": "r"
    }
   },
   "outputs": [],
   "source": [
    "analysis <- function(X, Y, display_plot=TRUE){\n",
    "    spearman <- cor(X, Y, use=\"pairwise.complete.obs\", method=\"spearman\")\n",
    "    pearson <- cor(X, Y, use=\"pairwise.complete.obs\", method=\"pearson\")\n",
    "    print(c(\"Pearson\", pearson))\n",
    "    print(c(\"Spearman\", spearman))\n",
    "    if (display_plot) {\n",
    "        ggplot() + geom_point(aes(x=X, y=Y))\n",
    "    }\n",
    "}\n",
    "\n",
    "regression <- function(X, Y, display_plot=TRUE){\n",
    "    r <- cor(X, Y, use=\"pairwise.complete.obs\")\n",
    "    Sx <- sd(X)\n",
    "    Sy <- sd(Y)\n",
    "    a <- r * Sy / Sx\n",
    "    b <- mean(Y) - a * mean(X)\n",
    "\n",
    "    if(display_plot){\n",
    "        xs <- seq(min(X), max(X), 0.01)\n",
    "        plt <- ggplot() +\n",
    "            geom_point(aes(x=X, y=Y), alpha=0.5) +\n",
    "            geom_line(aes(x = xs, y = a * xs + b), linewidth=1, col=\"red\")\n",
    "        show(plt)\n",
    "    }\n",
    "\n",
    "    return(c(a, b))\n",
    "}"
   ]
  },
  {
   "cell_type": "code",
   "execution_count": 4,
   "metadata": {
    "vscode": {
     "languageId": "r"
    }
   },
   "outputs": [
    {
     "name": "stderr",
     "output_type": "stream",
     "text": [
      "Warning message in file(file, \"rt\"):\n",
      "\"cannot open file 'data/data.csv': No such file or directory\"\n"
     ]
    },
    {
     "ename": "ERROR",
     "evalue": "Error in file(file, \"rt\"): cannot open the connection\n",
     "output_type": "error",
     "traceback": [
      "Error in file(file, \"rt\"): cannot open the connection\nTraceback:\n",
      "1. read.csv(\"data/data.csv\")",
      "2. read.table(file = file, header = header, sep = sep, quote = quote, \n .     dec = dec, fill = fill, comment.char = comment.char, ...)",
      "3. file(file, \"rt\")"
     ]
    }
   ],
   "source": [
    "data <- read.csv(\"data/data.csv\")"
   ]
  }
 ],
 "metadata": {
  "kernelspec": {
   "display_name": "R",
   "language": "R",
   "name": "ir"
  },
  "language_info": {
   "codemirror_mode": "r",
   "file_extension": ".r",
   "mimetype": "text/x-r-source",
   "name": "R",
   "pygments_lexer": "r",
   "version": "4.2.1"
  },
  "vscode": {
   "interpreter": {
    "hash": "3642fac518df875dfc1e3099fad2db5ed30440d4d90cf4826d3ffcbb62426672"
   }
  }
 },
 "nbformat": 4,
 "nbformat_minor": 2
}
